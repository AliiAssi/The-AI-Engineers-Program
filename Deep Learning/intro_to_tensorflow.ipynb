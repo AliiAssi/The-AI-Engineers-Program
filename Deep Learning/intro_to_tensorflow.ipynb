{
 "cells": [
  {
   "cell_type": "code",
   "execution_count": 1,
   "metadata": {},
   "outputs": [],
   "source": [
    "import numpy as np\n",
    "import pandas as pd\n",
    "import matplotlib.pyplot as plt\n",
    "import tensorflow as tf"
   ]
  },
  {
   "cell_type": "markdown",
   "metadata": {},
   "source": [
    "### Tensorflow Tensor"
   ]
  },
  {
   "cell_type": "code",
   "execution_count": 8,
   "metadata": {},
   "outputs": [
    {
     "name": "stdout",
     "output_type": "stream",
     "text": [
      "Result of a * x + b: 25.0\n",
      "<class 'tensorflow.python.framework.ops.EagerTensor'>\n",
      "/job:localhost/replica:0/task:0/device:CPU:0\n"
     ]
    }
   ],
   "source": [
    "\n",
    "# TensorFlow Constant\n",
    "a = tf.constant(5.0)\n",
    "b = tf.constant(10.0)\n",
    "\n",
    "# TensorFlow Variable\n",
    "x = tf.Variable(3.0)\n",
    "\n",
    "# Perform operations using constants and variables\n",
    "result = a * x + b\n",
    "\n",
    "# Print the result\n",
    "print(\"Result of a * x + b:\", result.numpy())\n",
    "print(type(result))\n",
    "print(result.device)"
   ]
  },
  {
   "cell_type": "code",
   "execution_count": 10,
   "metadata": {},
   "outputs": [
    {
     "name": "stdout",
     "output_type": "stream",
     "text": [
      "New result after updating x: 30.0\n"
     ]
    }
   ],
   "source": [
    "# Update the variable\n",
    "x.assign(4)\n",
    "\n",
    "# Perform the operation again with updated variable\n",
    "new_result = a * x + b\n",
    "print(\"New result after updating x:\", new_result.numpy())"
   ]
  },
  {
   "cell_type": "code",
   "execution_count": 15,
   "metadata": {},
   "outputs": [
    {
     "name": "stdout",
     "output_type": "stream",
     "text": [
      "tf.Tensor([5 7 9], shape=(3,), dtype=int32)\n"
     ]
    }
   ],
   "source": [
    "a = tf.constant([1, 2, 3])\n",
    "b = tf.constant([4, 5, 6])\n",
    "c = tf.add(a, b)\n",
    "print(c)"
   ]
  },
  {
   "cell_type": "markdown",
   "metadata": {},
   "source": [
    "### Tensorflow Placeholders"
   ]
  },
  {
   "cell_type": "markdown",
   "metadata": {},
   "source": [
    "**Placeholders (tf.placeholder):**\n",
    "These were used as inputs to the graph where the values would be provided at runtime via feed_dict. \n",
    "\n",
    "They allowed dynamic input feeding during the execution of the graph.\n",
    "\n",
    "**Session:** In TensorFlow 1.x, you needed to create a tf.Session() to run operations, and placeholders required you to feed values into them during session execution."
   ]
  },
  {
   "cell_type": "code",
   "execution_count": 17,
   "metadata": {},
   "outputs": [
    {
     "name": "stdout",
     "output_type": "stream",
     "text": [
      "Result with placeholder: 17.0\n"
     ]
    }
   ],
   "source": [
    "# TensorFlow 1.x (use in legacy code or TensorFlow 1.x environments)\n",
    "import tensorflow.compat.v1 as tf\n",
    "tf.disable_v2_behavior()\n",
    "\n",
    "\n",
    "# Placeholder for input values\n",
    "x = tf.placeholder(dtype=tf.float32, shape=None)\n",
    "\n",
    "# Constant\n",
    "a = tf.constant(4.0) #todo: create a constant\n",
    "b =  tf.constant(5.0) #todo: create a constant\n",
    "\n",
    "# Define an operation\n",
    "result = a * x + b\n",
    "\n",
    "# Create a session to run the computation graph\n",
    "with tf.Session() as sess:\n",
    "    # Feed a value into the placeholder and execute the graph\n",
    "    result_value = sess.run(result, feed_dict={x: 3.0})  # Example: x=3.0\n",
    "    print(\"Result with placeholder:\", result_value)\n"
   ]
  },
  {
   "cell_type": "markdown",
   "metadata": {},
   "source": [
    "**TensorFlow 2.x:** Focuses on constants (tf.constant) and variables (tf.Variable). \n",
    "\n",
    "Eager execution removes the need for placeholders or sessions.\n",
    "\n",
    "**TensorFlow 1.x:** Used placeholders (tf.placeholder) for feeding data into graphs at runtime and required sessions to execute the graph."
   ]
  },
  {
   "cell_type": "code",
   "execution_count": 1,
   "metadata": {},
   "outputs": [],
   "source": [
    "# TensorFlow v2\n",
    "import tensorflow as tf"
   ]
  },
  {
   "cell_type": "markdown",
   "metadata": {},
   "source": [
    "### Tensorflow: Tensor Operations"
   ]
  },
  {
   "cell_type": "code",
   "execution_count": 2,
   "metadata": {},
   "outputs": [
    {
     "name": "stdout",
     "output_type": "stream",
     "text": [
      "Sum of Tensors [2 4 6]\n",
      "Difference of tensors [0 0 0]\n",
      "Quotient of Tensor [1. 1. 1.]\n",
      "Product of tensors  [1 4 9]\n"
     ]
    }
   ],
   "source": [
    "\n",
    "sum_result = tf.add([1,2,3], [1,2,3]) # Addition\n",
    "diff_result = tf.subtract([1,2,3], [1,2,3]) # Subtraction\n",
    "quot_result = tf.divide([1,2,3], [1,2,3]) # Division\n",
    "prod_result = tf.multiply([1,2,3], [1,2,3]) # Multiplication\n",
    "\n",
    "print(\"Sum of Tensors\", sum_result.numpy())\n",
    "print(\"Difference of tensors\", diff_result.numpy())\n",
    "print(\"Quotient of Tensor\", quot_result.numpy())\n",
    "print(\"Product of tensors \", prod_result.numpy())\n",
    "\n"
   ]
  },
  {
   "cell_type": "code",
   "execution_count": null,
   "metadata": {},
   "outputs": [
    {
     "name": "stdout",
     "output_type": "stream",
     "text": [
      "Minimum: tf.Tensor([-1  1  3], shape=(3,), dtype=int32)\n",
      "Maximum: tf.Tensor([2 2 3], shape=(3,), dtype=int32)\n",
      "Absolute value: tf.Tensor([1 2 3], shape=(3,), dtype=int32)\n"
     ]
    }
   ],
   "source": [
    "# Element-wise operations\n",
    "a = tf.constant([1, 2, 3]) # 6\n",
    "b = tf.constant([2, 1, 3]) # 6\n",
    "min_result = tf.minimum(a, b)\n",
    "max_result = tf.maximum(a, b)\n",
    "abs_result = tf.abs(a)\n",
    "\n",
    "print(\"Minimum:\", min_result)\n",
    "print(\"Maximum:\", max_result)\n",
    "print(\"Absolute value:\", abs_result)\n"
   ]
  },
  {
   "cell_type": "code",
   "execution_count": 10,
   "metadata": {},
   "outputs": [
    {
     "data": {
      "text/plain": [
       "tf.int32"
      ]
     },
     "execution_count": 10,
     "metadata": {},
     "output_type": "execute_result"
    }
   ],
   "source": [
    "a.dtype"
   ]
  },
  {
   "cell_type": "code",
   "execution_count": 11,
   "metadata": {},
   "outputs": [],
   "source": [
    "# Cast the tensor `a` to float32 to match the type of 1e-8\n",
    "a = tf.cast(a, dtype=tf.float32)"
   ]
  },
  {
   "cell_type": "code",
   "execution_count": 12,
   "metadata": {},
   "outputs": [
    {
     "data": {
      "text/plain": [
       "tf.float32"
      ]
     },
     "execution_count": 12,
     "metadata": {},
     "output_type": "execute_result"
    }
   ],
   "source": [
    "a.dtype"
   ]
  },
  {
   "cell_type": "code",
   "execution_count": 13,
   "metadata": {},
   "outputs": [
    {
     "name": "stdout",
     "output_type": "stream",
     "text": [
      "Logarithm: tf.Tensor([-18.420681    0.6931472   1.0986123], shape=(3,), dtype=float32)\n",
      "Exponential: tf.Tensor([ 0.36787945  7.389056   20.085537  ], shape=(3,), dtype=float32)\n"
     ]
    }
   ],
   "source": [
    "# Now you can safely compute the logarithm\n",
    "log_result = tf.math.log(tf.maximum(a, 1e-8))  # Ensure positive values for logarithm\n",
    "exp_result = tf.math.exp(a)\n",
    "\n",
    "\n",
    "print(\"Logarithm:\", log_result)\n",
    "print(\"Exponential:\", exp_result)\n"
   ]
  },
  {
   "cell_type": "code",
   "execution_count": 14,
   "metadata": {},
   "outputs": [
    {
     "name": "stdout",
     "output_type": "stream",
     "text": [
      "Broadcasted Addition: tf.Tensor([5 5 5], shape=(3,), dtype=int32)\n"
     ]
    }
   ],
   "source": [
    "a = tf.constant([3, 3, 3]) #todo: create a tensor\n",
    "\n",
    "scalar = tf.constant(2) #todo: create a constant\n",
    "broadcast_result = tf.add(a, scalar)\n",
    "print(\"Broadcasted Addition:\", broadcast_result)\n"
   ]
  },
  {
   "cell_type": "code",
   "execution_count": 15,
   "metadata": {},
   "outputs": [
    {
     "name": "stdout",
     "output_type": "stream",
     "text": [
      "Sum across axis 0: tf.Tensor(9, shape=(), dtype=int32)\n",
      "Mean across axis 0: tf.Tensor(3, shape=(), dtype=int32)\n"
     ]
    }
   ],
   "source": [
    "sum_axis = tf.reduce_sum(a, axis=0)  # Sum across the first axis\n",
    "mean_axis = tf.reduce_mean(a, axis=0)  # Mean across the second axis\n",
    "print(\"Sum across axis 0:\", sum_axis)\n",
    "print(\"Mean across axis 0:\", mean_axis)\n"
   ]
  },
  {
   "cell_type": "markdown",
   "metadata": {},
   "source": [
    "#### Matmul example"
   ]
  },
  {
   "cell_type": "code",
   "execution_count": null,
   "metadata": {},
   "outputs": [
    {
     "name": "stdout",
     "output_type": "stream",
     "text": [
      "Neural Network Layer Output:\n",
      " tf.Tensor(\n",
      "[[0.3        0.4        0.2       ]\n",
      " [0.90000004 1.2        0.6       ]\n",
      " [0.3        0.4        0.2       ]], shape=(3, 3), dtype=float32)\n"
     ]
    }
   ],
   "source": [
    "import tensorflow as tf\n",
    "\n",
    "# Example: Input data for a neural network layer\n",
    "#todo: create input data tensor of shape (2,2), same for weights\n",
    "# input_data = tf.constant([\n",
    "#     [1.0 , 2.0],\n",
    "#     [3.0, 4.0]\n",
    "# ])   # Shape: (2, 2)\n",
    "# weights = tf.constant([\n",
    "#     [0.3, 0.4],\n",
    "#     [0.2, 0.1]\n",
    "# ])       # Shape: (2, 2)\n",
    "\n",
    "input_data = tf.constant([\n",
    "    [1.0],\n",
    "    [3.0],\n",
    "    [1.0]\n",
    "])   # Shape: (3, 1)\n",
    "weights = tf.constant([\n",
    "    [0.3, 0.4, 0.2],\n",
    "])       # Shape: (1, 3)\n",
    "\n",
    "# Matrix multiplication between input and weights\n",
    "output = tf.matmul(input_data, weights)\n",
    "print(\"Neural Network Layer Output:\\n\", output)\n"
   ]
  },
  {
   "cell_type": "markdown",
   "metadata": {},
   "source": [
    "#### Multiply Example (Element Wise)"
   ]
  },
  {
   "cell_type": "code",
   "execution_count": 22,
   "metadata": {},
   "outputs": [
    {
     "name": "stdout",
     "output_type": "stream",
     "text": [
      "Scaled Image:\n",
      " tf.Tensor(\n",
      "[[127.5  64. ]\n",
      " [ 32.   16. ]], shape=(2, 2), dtype=float32)\n"
     ]
    }
   ],
   "source": [
    "import tensorflow as tf\n",
    "\n",
    "# Example: Simulating image pixel values\n",
    "image = tf.constant([[255, 128], [64, 32]], dtype=tf.float32)  # Shape: (2, 2)\n",
    "\n",
    "# Scaling factor for each pixel (element-wise multiplication)\n",
    "#for example, you want to minimize the size of the image by halfw\n",
    "scaling_factor = 0.5\n",
    "scaled_image = tf.multiply(image, scaling_factor)\n",
    "print(\"Scaled Image:\\n\", scaled_image)\n"
   ]
  },
  {
   "cell_type": "markdown",
   "metadata": {},
   "source": [
    "#### Multiply Example"
   ]
  },
  {
   "cell_type": "code",
   "execution_count": null,
   "metadata": {},
   "outputs": [
    {
     "name": "stdout",
     "output_type": "stream",
     "text": [
      "Weighted Sequence:\n",
      " tf.Tensor(\n",
      "[[0.2 1.5 1. ]\n",
      " [1.2 0.2 0.5]\n",
      " [1.2 1.2 1.5]], shape=(3, 3), dtype=float32)\n"
     ]
    }
   ],
   "source": [
    "import tensorflow as tf\n",
    "\n",
    "# Example: Simulating a sequence of words (embeddings)\n",
    "sequence = tf.constant([\n",
    "    [1.0, 5.0, 2.0],\n",
    "    [3.0, 2.0, 1.0],\n",
    "    [4.0, 6.0, 3.0]\n",
    "])  # Shape: (3, 3)\n",
    "\n",
    "# Attention scores (one for each word in the sequence)\n",
    "attention_scores = tf.constant([\n",
    "    [0.2, 0.3, 0.5],\n",
    "    [0.4, 0.1, 0.5],\n",
    "    [0.3, 0.2, 0.5]\n",
    "])  #Shape: (3, 3)\n",
    "\n",
    "# Apply attention weights using element-wise multiplication\n",
    "weighted_sequence = tf.multiply(sequence, attention_scores)\n",
    "print(\"Weighted Sequence:\\n\", weighted_sequence)\n"
   ]
  },
  {
   "cell_type": "markdown",
   "metadata": {},
   "source": [
    "#### Gradient Derivates"
   ]
  },
  {
   "cell_type": "code",
   "execution_count": null,
   "metadata": {},
   "outputs": [],
   "source": [
    "x = tf.Variable(1.0)\n",
    "\n",
    "def f(x):\n",
    "  y = x**2 + 2*x - 5\n",
    "  return y"
   ]
  },
  {
   "cell_type": "code",
   "execution_count": null,
   "metadata": {},
   "outputs": [],
   "source": [
    "with tf......() as tape: #use GradientTape to calculate gradients\n",
    "  y = f(x)\n",
    "\n",
    "g_x = tape.gradient(y, x)  # g(x) = dy/dx\n",
    "\n",
    "g_x"
   ]
  },
  {
   "cell_type": "markdown",
   "metadata": {},
   "source": [
    "### Tensorflow: Tensor vs Numpy Ndarray\n",
    "Let's do some benchmarking"
   ]
  },
  {
   "cell_type": "code",
   "execution_count": null,
   "metadata": {},
   "outputs": [],
   "source": [
    "import time\n",
    "import numpy as np\n",
    "import tensorflow as tf\n",
    "\n",
    "# Create large random matrices\n",
    "size = 10000\n",
    "np_matrix_a = np.random.randn(size, size)\n",
    "np_matrix_b = np.random.randn(size, size)\n",
    "tf_matrix_a = tf.random.normal((size, size))\n",
    "tf_matrix_b = tf.random.normal((size, size))\n",
    "\n",
    "# Benchmark NumPy\n",
    "start_time = time.time()\n",
    "np_result = np.dot(np_matrix_a, np_matrix_b)\n",
    "np_duration = time.time() - start_time\n",
    "\n",
    "# Benchmark TensorFlow on CPU\n",
    "start_time = time.time()\n",
    "tf_result = tf.matmul(tf_matrix_a, tf_matrix_b)\n",
    "tf_duration = time.time() - start_time\n",
    "\n",
    "print(\"NumPy Duration: {:.6f} seconds\".format(np_duration))\n",
    "print(\"TensorFlow (CPU) Duration: {:.6f} seconds\".format(tf_duration))\n"
   ]
  },
  {
   "cell_type": "code",
   "execution_count": null,
   "metadata": {},
   "outputs": [],
   "source": [
    "\n",
    "# Example forward propagation in Python\n",
    "def forward_propagation(X, W, b):\n",
    "    Z = np.dot(W, X) + b  # Weighted sum\n",
    "    A = 1 / (1 + np.exp(-Z))  # Sigmoid activation function\n",
    "    return A\n",
    "\n",
    "# Dummy data\n",
    "X = np.array([[1.0], [2.0], [3.0]])  # Input\n",
    "W = np.array([[0.2, 0.4, 0.6]])  # Weights\n",
    "b = np.array([[0.5]])  # Bias\n",
    "\n",
    "# Forward propagation\n",
    "output = forward_propagation(X, W, b)\n",
    "print(\"Output of forward propagation:\", output)\n"
   ]
  },
  {
   "cell_type": "code",
   "execution_count": null,
   "metadata": {},
   "outputs": [],
   "source": [
    "import numpy as np\n",
    "\n",
    "# Sigmoid activation function\n",
    "def sigmoid(x):\n",
    "    return .....\n",
    "\n",
    "# ReLU activation function\n",
    "def relu(x):\n",
    "    return np....(0, x) \n",
    "\n",
    "# Tanh activation function\n",
    "def tanh(x):\n",
    "    return np.....(x)\n",
    "\n",
    "# Example of activation functions\n",
    "x = np.array([-1.0, 0.0, 1.0, 2.0])\n",
    "print(\"Sigmoid:\", sigmoid(x))\n",
    "print(\"ReLU:\", relu(x))\n",
    "print(\"Tanh:\", tanh(x))\n"
   ]
  },
  {
   "cell_type": "code",
   "execution_count": null,
   "metadata": {},
   "outputs": [],
   "source": [
    "def forward_with_activation(X, W, b, activation_function):\n",
    "    Z = np.dot(W, X) + b  # Weighted sum\n",
    "    match activation_function:\n",
    "        case 'sigmoid': \n",
    "            A = sigmoid(Z)\n",
    "        case 'relu' : \n",
    "            A = relu(Z)\n",
    "        case 'tanh' :\n",
    "            A = tanh(Z)\n",
    "    return A\n",
    "\n",
    "# Testing the function\n",
    "W = np.array([[0.2, 0.4, 0.6]])\n",
    "b = np.array([[0.5]])\n",
    "X = np.array([[1.0], [2.0], [3.0]])\n",
    "\n",
    "output = forward_with_activation(X, W, b, activation_function='relu')\n",
    "print(\"Output with ReLU activation:\", output)\n"
   ]
  },
  {
   "cell_type": "code",
   "execution_count": null,
   "metadata": {},
   "outputs": [],
   "source": []
  }
 ],
 "metadata": {
  "kernelspec": {
   "display_name": "venv",
   "language": "python",
   "name": "python3"
  },
  "language_info": {
   "codemirror_mode": {
    "name": "ipython",
    "version": 3
   },
   "file_extension": ".py",
   "mimetype": "text/x-python",
   "name": "python",
   "nbconvert_exporter": "python",
   "pygments_lexer": "ipython3",
   "version": "3.12.4"
  }
 },
 "nbformat": 4,
 "nbformat_minor": 2
}
