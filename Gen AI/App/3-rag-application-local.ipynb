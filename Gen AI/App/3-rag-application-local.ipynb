{
 "cells": [
  {
   "cell_type": "code",
   "execution_count": null,
   "metadata": {},
   "outputs": [],
   "source": [
    "import os \n",
    "from langchain_community.document_loaders import PyPDFDirectoryLoader\n",
    "from langchain.text_splitter import RecursiveCharacterTextSplitter\n",
    "from langchain_community.vectorstores import FAISS\n",
    "from langchain.chains import RetrievalQA\n",
    "from langchain.prompts import PromptTemplate\n",
    "     "
   ]
  },
  {
   "cell_type": "code",
   "execution_count": 18,
   "metadata": {},
   "outputs": [],
   "source": [
    "from urllib.request import urlretrieve"
   ]
  },
  {
   "cell_type": "code",
   "execution_count": 19,
   "metadata": {},
   "outputs": [],
   "source": [
    "files = [\n",
    "    \"https://www.census.gov/content/dam/Census/library/publications/2022/demo/p70-178.pdf\",\n",
    "    \"https://www.census.gov/content/dam/Census/library/publications/2023/acs/acsbr-017.pdf\",\n",
    "    \"https://www.census.gov/content/dam/Census/library/publications/2023/acs/acsbr-016.pdf\",\n",
    "    \"https://www.census.gov/content/dam/Census/library/publications/2023/acs/acsbr-015.pdf\",\n",
    "]\n",
    "os.makedirs(\"us_census\", exist_ok=True)"
   ]
  },
  {
   "cell_type": "code",
   "execution_count": 20,
   "metadata": {},
   "outputs": [],
   "source": [
    "for url in files:\n",
    "    file_path = os.path.join(\"us_census\", url.rpartition(\"/\")[2])\n",
    "    urlretrieve(url, file_path)"
   ]
  },
  {
   "cell_type": "code",
   "execution_count": 21,
   "metadata": {},
   "outputs": [],
   "source": [
    "loader = PyPDFDirectoryLoader(\"./us_census/\")"
   ]
  },
  {
   "cell_type": "code",
   "execution_count": 22,
   "metadata": {},
   "outputs": [],
   "source": [
    "docs_before_split = loader.load()"
   ]
  },
  {
   "cell_type": "code",
   "execution_count": 23,
   "metadata": {},
   "outputs": [
    {
     "data": {
      "text/plain": [
       "Document(metadata={'producer': 'Adobe PDF Library 17.0', 'creator': 'Adobe InDesign 18.2 (Windows)', 'creationdate': '2023-09-09T07:52:17-04:00', 'author': 'U.S. Census Bureau', 'keywords': 'acsbr-015', 'moddate': '2023-09-12T14:44:47+01:00', 'title': 'Health Insurance Coverage Status and Type by Geography: 2021 and 2022', 'trapped': '/false', 'source': 'us_census\\\\acsbr-015.pdf', 'total_pages': 18, 'page': 0, 'page_label': '1'}, page_content='Health Insurance Coverage Status and Type \\nby Geography: 2021 and 2022\\nAmerican Community Survey Briefs\\nACSBR-015\\nIssued September 2023\\nDouglas Conway and Breauna Branch\\nINTRODUCTION\\nDemographic shifts as well as economic and govern-\\nment policy changes can affect people’s access to \\nhealth coverage. For example, between 2021 and 2022, \\nthe labor market continued to improve, which may \\nhave affected private coverage in the United States \\nduring that time.1 Public policy changes included \\nthe renewal of the Public Health Emergency, which \\nallowed Medicaid enrollees to remain covered under \\nthe Continuous Enrollment Provision.2 The American \\nRescue Plan (ARP) enhanced Marketplace premium \\nsubsidies for those with incomes above 400 percent \\nof the poverty level as well as for unemployed people.3\\nIn addition to national policies, individual states and \\nthe District of Columbia can affect health insurance \\ncoverage by making Marketplace or Medicaid more \\naccessible and affordable. This variation may be \\nmore or less pronounced across states. Missouri and \\nOklahoma expanded Medicaid eligibility under the \\nPatient Protection and Affordable Care Act (ACA) in \\n2022, leaving only twelve states without expanded \\nMedicaid eligibility, primarily in the South and parts \\n1 The Bureau of Labor Statistics reported increases in national \\nemployment from 2021 to 2022. More information is available at \\n<www.bls.gov/opub/mlr/2023/article/unemployment-rate-returned-\\nto-its-prepandemic-level-in-2022.htm>.\\n2 Juliette Cubanski et al., “What Happens When COVID-19 \\nEmergency Declarations End? Implications for Coverage, Costs, and \\nAccess?,” Kaiser Family Foundation, 2023, <www.kff.org/coronavirus-\\ncovid-19/issue-brief/what-happens-when-covid-19-emergency-\\ndeclarations-end-implications-for-coverage-costs-and-access/>.\\n3 For more information, refer to the American Rescue Plan Act, \\nP.L. 117-2, March 11, 2021, <www.congress.gov/bill/117th-congress/\\nhouse-bill/1319/text>.\\nof the Midwest.4, 5 Kentucky, Maine, and New Mexico \\ncreated state-based health insurance marketplaces on \\nNovember 1, 2021, to replace their previously federally \\nrun exchanges.6 State and federal policies designed to \\nincrease public coverage may also affect the supply \\nand demand for private coverage. As a result, a variety \\nof changes in coverage rates are possible. \\nThis brief uses the 2021 and 2022 American \\nCommunity Survey (ACS) 1-year estimates to exam-\\nine differences in health insurance coverage status \\nand select subtypes (Medicaid, direct purchase, \\nand employer-based) for the 50 states, the District \\nof Columbia, and the 25 most populous metro-\\npolitan areas (refer to the “What Is Health Insurance \\nCoverage?” text box).7 It also examines year-to-year \\nchanges (2021 to 2022) across these geographies. \\n4 Note that for the purposes of this brief, we consider a state \\nto have expanded Medicaid eligibility if it expanded eligibility on \\nor before January 1st of that expansion year. For a state to have \\nexpanded Medicaid eligibility in 2022, it would have had to expand \\neligibility after January 1, 2021, but before January 1, 2022. For more \\ninformation, refer to the Patient Protection and Affordable Care \\nAct, P.L. 111-148, March 23, 2010, available at <www.congress.gov/\\nbill/111th-congress/house-bill/3590>.\\n5 For more information on the U.S. Census Bureau’s geographic \\nlevels, refer to Geographic Levels at <www.census.gov/programs-\\nsurveys/economic-census/guidance-geographies/levels.html>.\\n6 “Kentucky, Maine, and New Mexico Launch State Marketplaces \\nfor 2022 Coverage,” Centers for Medicare & Medicaid Services press \\nrelease, 2023, <www.cms.gov/newsroom/press-releases/kentucky-\\nmaine-and-new-mexico-launch-state-marketplaces-2022-coverage>.\\n7 The Census Bureau has reviewed this data product to ensure \\nappropriate access, use, and disclosure avoidance protection \\nof the confidential source data used to produce this product \\n(Disclosure Review Board (DRB) approval number: CBDRB-FY23-\\nSEHSD003-049). For information on confidentiality protection, \\nsampling error, nonsampling error, and definitions in the American \\nCommunity Survey, refer to <https:/ /www2.census.gov/programs-\\nsurveys/acs/tech_docs/accuracy/ACS_Accuracy_of_Data_2022.pdf>.')"
      ]
     },
     "execution_count": 23,
     "metadata": {},
     "output_type": "execute_result"
    }
   ],
   "source": [
    "docs_before_split[0]"
   ]
  },
  {
   "cell_type": "code",
   "execution_count": 8,
   "metadata": {},
   "outputs": [],
   "source": [
    "text_splitter =  RecursiveCharacterTextSplitter(\n",
    "    chunk_size =700,\n",
    "    chunk_overlap = 50\n",
    ")\n",
    "docs_after_split = text_splitter.split_documents(docs_before_split)\n"
   ]
  },
  {
   "cell_type": "code",
   "execution_count": 9,
   "metadata": {},
   "outputs": [
    {
     "data": {
      "text/plain": [
       "694"
      ]
     },
     "execution_count": 9,
     "metadata": {},
     "output_type": "execute_result"
    }
   ],
   "source": [
    "len(docs_after_split[0].page_content)"
   ]
  },
  {
   "cell_type": "code",
   "execution_count": 10,
   "metadata": {},
   "outputs": [],
   "source": [
    "avg_doc_length = lambda docs: sum([len(doc.page_content) for doc in docs])//len(docs)"
   ]
  },
  {
   "cell_type": "code",
   "execution_count": 11,
   "metadata": {},
   "outputs": [],
   "source": [
    "avg_char_before_split = avg_doc_length(docs_before_split)\n",
    "avg_char_after_split = avg_doc_length(docs_after_split)"
   ]
  },
  {
   "cell_type": "code",
   "execution_count": 12,
   "metadata": {},
   "outputs": [
    {
     "name": "stdout",
     "output_type": "stream",
     "text": [
      "before split: 3840\n",
      "after split: 624\n"
     ]
    }
   ],
   "source": [
    "print(f'before split: {avg_char_before_split}')\n",
    "print(f'after split: {avg_char_after_split}')"
   ]
  },
  {
   "cell_type": "code",
   "execution_count": null,
   "metadata": {},
   "outputs": [],
   "source": [
    "from langchain_mistralai import MistralAIEmbeddings\n",
    "\n",
    "embeddings = MistralAIEmbeddings(\n",
    "    model=\"mistral-embed\",\n",
    ")"
   ]
  },
  {
   "cell_type": "code",
   "execution_count": 75,
   "metadata": {},
   "outputs": [],
   "source": [
    "vectorstore = FAISS.from_documents(docs_after_split, embeddings)"
   ]
  },
  {
   "cell_type": "code",
   "execution_count": 76,
   "metadata": {},
   "outputs": [],
   "source": [
    "retriever = vectorstore.as_retriever(search_type=\"similarity\" , search_kwargs={\"k\" : 3})"
   ]
  },
  {
   "cell_type": "code",
   "execution_count": 93,
   "metadata": {},
   "outputs": [],
   "source": [
    "relevants = vectorstore.similarity_search(\"what are the trends in median household income across different states in the us between 2021 and 2022?\")"
   ]
  },
  {
   "cell_type": "code",
   "execution_count": 98,
   "metadata": {},
   "outputs": [
    {
     "name": "stdout",
     "output_type": "stream",
     "text": [
      "hold income in 2022 was $24,112 \n",
      "(Table 1 and Figure 2). Median \n",
      "household income was lower than \n",
      "the U.S. median in 30 states and \n",
      "Puerto Rico. It was higher than the \n",
      "U.S. median in 17 states and the \n",
      "District of Columbia. The medians \n",
      "for Arizona, Oregon, and Vermont \n",
      "were not statistically different from \n",
      "the U.S. median.\n",
      "From 2021 to 2022, five states—\n",
      "Alabama, Alaska, Delaware, Florida, \n",
      "and Utah—showed a statistically \n",
      "significant increase in real median \n",
      "household income; 17 states \n",
      "showed a decrease. Real median \n",
      "household income in 2022 was not \n",
      "statistically different from that in \n",
      "2021 for 28 states, the District of \n",
      "Columbia, and Puerto Rico  \n",
      "(Table 1).\n",
      "-------------------\n",
      "2006 (the earliest year for which \n",
      "the Gini Index is available) to 2022, \n",
      "the index increased 4.7 percent, \n",
      "from 0.464 to 0.486.\n",
      "SUMMARY\n",
      "The U.S. median household income \n",
      "declined 0.8 percent to $74,755 \n",
      "from 2021 to 2022. Between 2021 \n",
      "and 2022, five states—Alabama, \n",
      "Alaska, Delaware, Florida, and \n",
      "Utah—showed a statistically signifi-\n",
      "cant increase in real median house-\n",
      "hold income. Seventeen states \n",
      "showed a decrease. Real median \n",
      "household income in 2022 was not \n",
      "statistically different from that in \n",
      "2021 for 28 states, the District of \n",
      "Columbia, and Puerto Rico. This \n",
      "brief also provided information \n",
      "on changes in median household \n",
      "income across metropolitan areas,\n",
      "-------------------\n",
      "4 U.S. Census Bureau\n",
      "to the ACS (Table 1). Real median \n",
      "household income in the United \n",
      "States declined 0.8 percent \n",
      "between the 2021 ACS and 2022 \n",
      "ACS.7 Figure 1 shows a historical \n",
      "series of median household income \n",
      "back to 2005.\n",
      "New Jersey and Maryland had the \n",
      "highest median household incomes \n",
      "of all states ($96,346 and $94,991, \n",
      "respectively); there was no statisti-\n",
      "cal difference between the two. \n",
      "⁷ “Real” refers to income after adjusting \n",
      "for inflation.\n",
      "The District of Columbia’s median \n",
      "household income ($101,027) \n",
      "was the highest in the nation. \n",
      "Mississippi had the lowest median \n",
      "household income ($52,719) of any \n",
      "state. Puerto Rico’s median house-\n",
      "hold income in 2022 was $24,112\n",
      "-------------------\n",
      "Inflation adjustments are computed using \n",
      "the Consumer Price Index retroactive series \n",
      "using current methods (R-CPI-U-RS).\n",
      "• New Jersey and Maryland had \n",
      "the highest median household \n",
      "incomes of all states—$96,346 \n",
      "and $94,991, respectively—and \n",
      "were not statistically different \n",
      "from each other. The District of \n",
      "Columbia’s median household \n",
      "income ($101,027) was the high-\n",
      "est in the nation. Mississippi had \n",
      "the lowest median household \n",
      "income ($52,719) of any state.\n",
      "• Income inequality in the United \n",
      "States measured by the Gini \n",
      "index increased between 2021 \n",
      "and 2022.\n",
      "MEDIAN HOUSEHOLD INCOME\n",
      "2021 and 2022 National and State \n",
      "Comparisons\n",
      "The U.S. median household income\n",
      "-------------------\n"
     ]
    }
   ],
   "source": [
    "text = []\n",
    "for document in relevants:\n",
    "    text.append(document.page_content)\n",
    "for line in text:\n",
    "    print(line)\n",
    "    print(\"-------------------\")"
   ]
  },
  {
   "cell_type": "code",
   "execution_count": 77,
   "metadata": {},
   "outputs": [],
   "source": [
    "from langchain_mistralai import ChatMistralAI\n",
    "\n",
    "llm = ChatMistralAI(\n",
    "    model=\"mistral-large-latest\",\n",
    "    temperature=0,\n",
    ")"
   ]
  },
  {
   "cell_type": "code",
   "execution_count": 79,
   "metadata": {},
   "outputs": [
    {
     "data": {
      "text/plain": [
       "AIMessage(content=\"Hello! How can I assist you today? Let's have a friendly conversation.  How are you doing?\", additional_kwargs={}, response_metadata={'token_usage': {'prompt_tokens': 12, 'total_tokens': 36, 'completion_tokens': 24}, 'model_name': 'mistral-large-latest', 'model': 'mistral-large-latest', 'finish_reason': 'stop'}, id='run-703ca63b-8a9c-490f-b397-dc7f43f4b513-0', usage_metadata={'input_tokens': 12, 'output_tokens': 24, 'total_tokens': 36})"
      ]
     },
     "execution_count": 79,
     "metadata": {},
     "output_type": "execute_result"
    }
   ],
   "source": [
    "messages = [\n",
    "    (\n",
    "        \"system\",\n",
    "        \"You are a helpful assistant.\",\n",
    "    ),\n",
    "    (\"human\", \"Hello\"),\n",
    "]\n",
    "ai_msg = llm.invoke(messages)\n",
    "ai_msg"
   ]
  },
  {
   "cell_type": "code",
   "execution_count": 80,
   "metadata": {},
   "outputs": [],
   "source": [
    "prompt_template = \"\"\"Use the following pieces of context to answer the question at the end. Please follow the following rules:\n",
    "1. If you don't know the answer, don't try to make up an answer. Just say \"I can't find the final answer but you may want to check the following links\".\n",
    "2. If you find the answer, write the answer in a concise way with five sentences maximum.\n",
    "\n",
    "{context}\n",
    "\n",
    "Question: {question}\n",
    "\n",
    "Helpful Answer:\n",
    "\"\"\"\n",
    "\n",
    "PROMPT = PromptTemplate(\n",
    " template=prompt_template, input_variables=[\"context\", \"question\"]\n",
    ")\n",
    "     "
   ]
  },
  {
   "cell_type": "code",
   "execution_count": 81,
   "metadata": {},
   "outputs": [],
   "source": [
    "retrievalQA = RetrievalQA.from_chain_type(\n",
    "    llm=llm, \n",
    "    chain_type=\"stuff\",\n",
    "    retriever=retriever,\n",
    "    return_source_documents=True,\n",
    "    chain_type_kwargs = {\"prompt\" : PROMPT}\n",
    ")"
   ]
  },
  {
   "cell_type": "markdown",
   "metadata": {},
   "source": [
    "### USE THE RAG !!! "
   ]
  },
  {
   "cell_type": "code",
   "execution_count": 90,
   "metadata": {},
   "outputs": [],
   "source": [
    "result = retrievalQA.invoke({\"query\" : \"in which year : Health Insurance Coverage Status and Type by Geography\"})"
   ]
  },
  {
   "cell_type": "code",
   "execution_count": 92,
   "metadata": {},
   "outputs": [
    {
     "data": {
      "text/plain": [
       "'The document discusses health insurance coverage status and type by geography for the years 2021 and 2022.'"
      ]
     },
     "execution_count": 92,
     "metadata": {},
     "output_type": "execute_result"
    }
   ],
   "source": [
    "result['result']"
   ]
  },
  {
   "cell_type": "code",
   "execution_count": 85,
   "metadata": {},
   "outputs": [
    {
     "name": "stdout",
     "output_type": "stream",
     "text": [
      "dict_keys(['query', 'result', 'source_documents'])\n"
     ]
    }
   ],
   "source": [
    "print(result.keys())"
   ]
  },
  {
   "cell_type": "code",
   "execution_count": 86,
   "metadata": {},
   "outputs": [
    {
     "name": "stdout",
     "output_type": "stream",
     "text": [
      "There are 3 documents retrieved which are relevant to the query.\n",
      "****************************************************************************************************\n",
      "Relevant Document #1:\n",
      "Source file: us_census\\acsbr-016.pdf, Page: 1\n",
      "Content: /one.tab/six.tab\n",
      "/one.tab/eight.tab\n",
      "/two.tab/zero.tab/two.tab/two.tab ‘/two.tab/one.tab‘/two.tab/zero.tab‘/one.tab/nine.tab ‘/one.tab/eight.tab‘/one.tab/seven.tab‘/one.tab/six.tab ‘/one.tab/five.tab ‘/one.tab/four.tab ‘/one.tab/three.tab ‘/one.tab/two.tab ‘/one.tab/one.tab ‘/one.tab/zero.tab ‘/zero.tab/nine.tab ‘/zero.tab/eight.tab ‘/zero.tab/seven.tab ‘/zero.tab/six.tab /two.tab/zero.tab/zero.tab/five.tab\n",
      "----------------------------------------------------------------------------------------------------\n",
      "There are 3 documents retrieved which are relevant to the query.\n",
      "Relevant Document #2:\n",
      "Source file: us_census\\acsbr-017.pdf, Page: 1\n",
      "Content: /six.tab/five.tab\n",
      "/seven.tab/zero.tab\n",
      "/seven.tab/five.tab\n",
      "/eight.tab/zero.tab\n",
      "/two.tab/zero.tab/two.tab/two.tab ‘/two.tab/one.tab ‘/two.tab/zero.tab ‘/one.tab/nine.tab ‘/one.tab/eight.tab ‘/one.tab/seven.tab ‘/one.tab/six.tab ‘/one.tab/five.tab ‘/one.tab/four.tab ‘/one.tab/three.tab ‘/one.tab/two.tab ‘/one.tab/one.tab ‘/one.tab/zero.tab ‘/zero.tab/nine.tab ‘/zero.tab/eight.tab ‘/zero.tab/seven.tab ‘/zero.tab/six.tab /two.tab/zero.tab/zero.tab/five.tab\n",
      "(In thousands of /two.tab/zero.tab/two.tab/two.tab dollars)\n",
      "----------------------------------------------------------------------------------------------------\n",
      "There are 3 documents retrieved which are relevant to the query.\n",
      "Relevant Document #3:\n",
      "Source file: us_census\\acsbr-017.pdf, Page: 4\n",
      "Content: Estimate\n",
      "Margin \n",
      "of error \n",
      "(±)¹ Estimate\n",
      "Margin \n",
      "of error \n",
      "(±)¹ Estimate\n",
      "Margin \n",
      "of error \n",
      "(±)¹\n",
      "Atlanta-Sandy Springs-Alpharetta, GA  ........................ 83,867 1,154 84,876 1,026 1.2 1.8\n",
      "Baltimore-Columbia-Towson, MD  ............................. 93,284 2,012 90,505 1,447 *–3.0 2.7\n",
      "Boston-Cambridge-Newton, MA-NH  .......................... 108,902 1,593 104,299 1,371 *–4.2 1.9\n",
      "Charlotte-Concord-Gastonia, NC-SC  .......................... 76,789 1,403 77,154 1,313 0.5 2.5\n",
      "Chicago-Naperville-Elgin, IL-IN-WI ............................ 84,491 897 82,914 948 *–1.9 1.5\n",
      "Dallas-Fort Worth-Arlington, TX  .............................. 82,123 995 82,823 1,022 0.9 1.7\n",
      "----------------------------------------------------------------------------------------------------\n",
      "There are 3 documents retrieved which are relevant to the query.\n"
     ]
    }
   ],
   "source": [
    "relevant_docs = result['source_documents']\n",
    "print(f'There are {len(relevant_docs)} documents retrieved which are relevant to the query.')\n",
    "print(\"*\" * 100)\n",
    "for i, doc in enumerate(relevant_docs):\n",
    "    print(f\"Relevant Document #{i+1}:\\nSource file: {doc.metadata['source']}, Page: {doc.metadata['page']}\\nContent: {doc.page_content}\")\n",
    "    print(\"-\"*100)\n",
    "    print(f'There are {len(relevant_docs)} documents retrieved which are relevant to the query.')"
   ]
  }
 ],
 "metadata": {
  "kernelspec": {
   "display_name": "venv",
   "language": "python",
   "name": "python3"
  },
  "language_info": {
   "codemirror_mode": {
    "name": "ipython",
    "version": 3
   },
   "file_extension": ".py",
   "mimetype": "text/x-python",
   "name": "python",
   "nbconvert_exporter": "python",
   "pygments_lexer": "ipython3",
   "version": "3.12.4"
  }
 },
 "nbformat": 4,
 "nbformat_minor": 2
}
