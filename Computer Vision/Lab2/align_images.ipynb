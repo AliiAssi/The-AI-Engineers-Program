{
 "cells": [
  {
   "cell_type": "code",
   "execution_count": 10,
   "metadata": {},
   "outputs": [],
   "source": [
    "import numpy as np\n",
    "import imutils\n",
    "import cv2 "
   ]
  },
  {
   "cell_type": "code",
   "execution_count": 11,
   "metadata": {},
   "outputs": [],
   "source": [
    "def display_image(title, img):\n",
    "    cv2.imshow(title, img)\n",
    "    cv2.waitKey(0)\n",
    "    cv2.destroyAllWindows()"
   ]
  },
  {
   "cell_type": "code",
   "execution_count": 22,
   "metadata": {},
   "outputs": [],
   "source": [
    "def align_images(image, template, maxFeatures=500, keepPercent = 0.2, debug=False):\n",
    "    imageGray = cv2.cvtColor(image, cv2.COLOR_BGR2GRAY)\n",
    "    templateGray = cv2.cvtColor(template, cv2.COLOR_BGR2GRAY)\n",
    "    \n",
    "    orb = cv2.ORB_create(maxFeatures)\n",
    "    (kpsA, descA) = orb.detectAndCompute(imageGray, None)\n",
    "    (kpsB, descB) = orb.detectAndCompute(templateGray, None)\n",
    "    \n",
    "    method = cv2.DESCRIPTOR_MATCHER_BRUTEFORCE_HAMMING\n",
    "    matcher = cv2.DescriptorMatcher_create(method)\n",
    "    matches = matcher.match(descA, descB)\n",
    "    \n",
    "    matches = sorted(matches , key=lambda x:x.distance)\n",
    "\n",
    "    keep = int(len(matches)*keepPercent)\n",
    "    matches = matches[:keep]\n",
    "    \n",
    "    ptsA = np.zeros((len(matches) , 2 ) , dtype=\"float\")\n",
    "    ptsB = np.zeros((len(matches) , 2 ) , dtype=\"float\")\n",
    "    \n",
    "    \n",
    "    if debug :\n",
    "        matchedVis = cv2.drawMatches(image, kpsA, template, kpsB, matches, None)\n",
    "        matchedVis = imutils.resize(matchedVis, width=1000)\n",
    "        # cv2.imshow(\"Matched Keypoints\" , matchedVis)\n",
    "        # cv2.waitKey(0)\n",
    "        display_image(\"Matched Keypoints\", matchedVis)\n",
    "    \n",
    "    for (i, m ) in enumerate(matches):\n",
    "        ptsA[i] = kpsA[m.queryIdx].pt\n",
    "        ptsB[i] = kpsB[m.trainIdx].pt\n",
    "    \n",
    "    (H, mask) = cv2.findHomography(ptsA, ptsB, method=cv2.RANSAC)\n",
    "    \n",
    "    (h,w) = template.shape[:2]\n",
    "\n",
    "    aligned = cv2.warpPerspective(image, H, (w,h))\n",
    "    return aligned"
   ]
  },
  {
   "cell_type": "code",
   "execution_count": 13,
   "metadata": {},
   "outputs": [],
   "source": [
    "image = cv2.imread(\"image.jpg\")\n",
    "template = cv2.imread(\"main.png\")"
   ]
  },
  {
   "cell_type": "code",
   "execution_count": 23,
   "metadata": {},
   "outputs": [],
   "source": [
    "aligned = align_images(image, template, debug=True)"
   ]
  },
  {
   "cell_type": "code",
   "execution_count": 15,
   "metadata": {},
   "outputs": [
    {
     "data": {
      "text/plain": [
       "array([[[156, 162, 165],\n",
       "        [156, 162, 166],\n",
       "        [156, 162, 166],\n",
       "        ...,\n",
       "        [168, 174, 177],\n",
       "        [168, 174, 178],\n",
       "        [169, 174, 178]],\n",
       "\n",
       "       [[156, 162, 165],\n",
       "        [156, 162, 165],\n",
       "        [156, 162, 165],\n",
       "        ...,\n",
       "        [168, 174, 177],\n",
       "        [168, 174, 177],\n",
       "        [167, 173, 176]],\n",
       "\n",
       "       [[156, 162, 165],\n",
       "        [156, 162, 165],\n",
       "        [156, 161, 165],\n",
       "        ...,\n",
       "        [167, 173, 177],\n",
       "        [166, 172, 176],\n",
       "        [166, 172, 176]],\n",
       "\n",
       "       ...,\n",
       "\n",
       "       [[151, 156, 160],\n",
       "        [151, 156, 160],\n",
       "        [151, 156, 160],\n",
       "        ...,\n",
       "        [154, 162, 164],\n",
       "        [156, 162, 166],\n",
       "        [158, 165, 168]],\n",
       "\n",
       "       [[150, 156, 160],\n",
       "        [150, 156, 160],\n",
       "        [150, 156, 160],\n",
       "        ...,\n",
       "        [155, 162, 165],\n",
       "        [156, 162, 166],\n",
       "        [158, 164, 168]],\n",
       "\n",
       "       [[150, 155, 158],\n",
       "        [150, 155, 158],\n",
       "        [150, 155, 158],\n",
       "        ...,\n",
       "        [156, 163, 166],\n",
       "        [156, 162, 166],\n",
       "        [156, 163, 166]]], dtype=uint8)"
      ]
     },
     "execution_count": 15,
     "metadata": {},
     "output_type": "execute_result"
    }
   ],
   "source": [
    "aligned = imutils.resize(aligned, width=700)\n",
    "template = imutils.resize(template, width=700)\n",
    "\n",
    "stacked = np.hstack([aligned, template])\n",
    "\n",
    "overlay = template.copy()\n",
    "output = aligned.copy()\n",
    "cv2.addWeighted(overlay, 0.5, output, 0.5 , 0 , output)"
   ]
  },
  {
   "cell_type": "code",
   "execution_count": 18,
   "metadata": {},
   "outputs": [],
   "source": [
    "display_image(\"stacked\", stacked)\n",
    "display_image(\"output\", output)"
   ]
  }
 ],
 "metadata": {
  "kernelspec": {
   "display_name": "venv",
   "language": "python",
   "name": "python3"
  },
  "language_info": {
   "codemirror_mode": {
    "name": "ipython",
    "version": 3
   },
   "file_extension": ".py",
   "mimetype": "text/x-python",
   "name": "python",
   "nbconvert_exporter": "python",
   "pygments_lexer": "ipython3",
   "version": "3.12.4"
  }
 },
 "nbformat": 4,
 "nbformat_minor": 2
}
