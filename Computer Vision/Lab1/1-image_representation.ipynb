{
 "cells": [
  {
   "cell_type": "code",
   "execution_count": 12,
   "metadata": {},
   "outputs": [],
   "source": [
    "import cv2 as cv"
   ]
  },
  {
   "cell_type": "code",
   "execution_count": 13,
   "metadata": {},
   "outputs": [],
   "source": [
    "#read image\n",
    "image = cv.imread(\"../DATA/image1.png\")"
   ]
  },
  {
   "cell_type": "code",
   "execution_count": 14,
   "metadata": {},
   "outputs": [],
   "source": [
    "# show \n",
    "def show(img):\n",
    "    # using cv\n",
    "    cv.imshow(\"image\", img)\n",
    "    cv.waitKey(0)\n",
    "    cv.destroyAllWindows()\n",
    "# show(image)"
   ]
  },
  {
   "cell_type": "code",
   "execution_count": 15,
   "metadata": {},
   "outputs": [],
   "source": [
    "gray = cv.cvtColor(image, cv.COLOR_BGR2GRAY)\n",
    "show(gray)"
   ]
  },
  {
   "cell_type": "code",
   "execution_count": 16,
   "metadata": {},
   "outputs": [
    {
     "name": "stdout",
     "output_type": "stream",
     "text": [
      "(512, 512, 3)\n"
     ]
    }
   ],
   "source": [
    "print(image.shape)"
   ]
  },
  {
   "cell_type": "code",
   "execution_count": 17,
   "metadata": {},
   "outputs": [
    {
     "name": "stdout",
     "output_type": "stream",
     "text": [
      "(512, 512)\n"
     ]
    }
   ],
   "source": [
    "print(gray.shape)"
   ]
  },
  {
   "cell_type": "code",
   "execution_count": 18,
   "metadata": {},
   "outputs": [],
   "source": [
    "rgb_image = cv.imread(\"../DATA/rgb_image.jpg\")\n",
    "show(rgb_image)"
   ]
  },
  {
   "cell_type": "code",
   "execution_count": 19,
   "metadata": {},
   "outputs": [],
   "source": [
    "rgb_image = cv.cvtColor(rgb_image, cv.COLOR_BGR2RGB)\n",
    "show(rgb_image)"
   ]
  },
  {
   "cell_type": "code",
   "execution_count": 20,
   "metadata": {},
   "outputs": [
    {
     "name": "stdout",
     "output_type": "stream",
     "text": [
      "(360, 639, 3)\n"
     ]
    }
   ],
   "source": [
    "print(rgb_image.shape)"
   ]
  },
  {
   "cell_type": "code",
   "execution_count": 21,
   "metadata": {},
   "outputs": [
    {
     "name": "stdout",
     "output_type": "stream",
     "text": [
      "[[[48 23 19]\n",
      "  [47 22 18]\n",
      "  [49 21 18]\n",
      "  ...\n",
      "  [ 2  3 23]\n",
      "  [ 2  3 23]\n",
      "  [ 2  3 23]]\n",
      "\n",
      " [[47 22 18]\n",
      "  [47 22 18]\n",
      "  [49 21 18]\n",
      "  ...\n",
      "  [ 3  4 24]\n",
      "  [ 3  4 24]\n",
      "  [ 3  4 24]]\n",
      "\n",
      " [[49 21 20]\n",
      "  [48 20 19]\n",
      "  [49 19 17]\n",
      "  ...\n",
      "  [ 3  4 24]\n",
      "  [ 3  4 24]\n",
      "  [ 3  4 24]]\n",
      "\n",
      " ...\n",
      "\n",
      " [[ 9  5 28]\n",
      "  [ 9  5 28]\n",
      "  [ 9  5 28]\n",
      "  ...\n",
      "  [13 10 27]\n",
      "  [12  9 26]\n",
      "  [12  9 26]]\n",
      "\n",
      " [[ 9  5 28]\n",
      "  [ 9  5 28]\n",
      "  [ 9  5 28]\n",
      "  ...\n",
      "  [11  9 23]\n",
      "  [12 10 24]\n",
      "  [13 11 25]]\n",
      "\n",
      " [[ 9  5 28]\n",
      "  [ 9  5 28]\n",
      "  [ 9  5 28]\n",
      "  ...\n",
      "  [14 12 26]\n",
      "  [16 14 28]\n",
      "  [19 17 31]]]\n"
     ]
    }
   ],
   "source": [
    "print(rgb_image)"
   ]
  },
  {
   "cell_type": "code",
   "execution_count": 22,
   "metadata": {},
   "outputs": [],
   "source": [
    "rgb_image_1 = cv.imread(\"../DATA/colors.jpg\")\n",
    "rgb_image_1 = cv.cvtColor(rgb_image_1, cv.COLOR_BGR2RGB)\n"
   ]
  },
  {
   "cell_type": "code",
   "execution_count": 23,
   "metadata": {},
   "outputs": [],
   "source": [
    "(R,G,B) = cv.split(image)"
   ]
  },
  {
   "cell_type": "code",
   "execution_count": 24,
   "metadata": {},
   "outputs": [],
   "source": [
    "cv.namedWindow(\"Blue\", cv.WINDOW_NORMAL)\n",
    "cv.namedWindow(\"Green\", cv.WINDOW_NORMAL)\n",
    "cv.namedWindow(\"Red\", cv.WINDOW_NORMAL)"
   ]
  },
  {
   "cell_type": "code",
   "execution_count": 25,
   "metadata": {},
   "outputs": [],
   "source": [
    "cv.imshow(\"Blue\" , B)\n",
    "cv.imshow(\"Green\", G)\n",
    "cv.imshow(\"Red\", R)"
   ]
  },
  {
   "cell_type": "code",
   "execution_count": 26,
   "metadata": {},
   "outputs": [],
   "source": [
    "cv.imwrite(\"channel_red.jpg\", R)\n",
    "cv.imwrite(\"channel_green.jpg\", G)\n",
    "cv.imwrite(\"channel_blue.jpg\", B)\n",
    "if cv.waitKey(0):\n",
    "    cv.destroyAllWindows()"
   ]
  },
  {
   "cell_type": "code",
   "execution_count": 27,
   "metadata": {},
   "outputs": [
    {
     "name": "stdout",
     "output_type": "stream",
     "text": [
      "At pixel (0,0), - Red: 42 , Green: 141, Blue 12\n"
     ]
    }
   ],
   "source": [
    "rgb_image_1 = cv.imread(\"../DATA/colors.jpg\")\n",
    "(b,g,r) = rgb_image_1[0,0]\n",
    "print(f\"At pixel (0,0), - Red: {r} , Green: {g}, Blue {b}\")"
   ]
  },
  {
   "cell_type": "markdown",
   "metadata": {},
   "source": [
    "### Drawing"
   ]
  },
  {
   "cell_type": "code",
   "execution_count": 28,
   "metadata": {},
   "outputs": [],
   "source": [
    "import numpy as np\n",
    "import cv2 as cv"
   ]
  },
  {
   "cell_type": "code",
   "execution_count": 29,
   "metadata": {},
   "outputs": [],
   "source": [
    "canvas = np.zeros((300, 300, 3), dtype=\"uint8\")"
   ]
  },
  {
   "cell_type": "code",
   "execution_count": 30,
   "metadata": {},
   "outputs": [],
   "source": [
    "green = (0,255,0)\n",
    "cv.line(canvas, (0,0), (300,300), green)\n",
    "show(canvas)"
   ]
  },
  {
   "cell_type": "code",
   "execution_count": 31,
   "metadata": {},
   "outputs": [],
   "source": [
    "red = (0,0,255)\n",
    "cv.line(canvas, (300,0), (0,300), red)\n",
    "show(canvas)"
   ]
  },
  {
   "cell_type": "code",
   "execution_count": 32,
   "metadata": {},
   "outputs": [],
   "source": [
    "cv.rectangle(canvas, (50,200),(200,225),red, 5)\n",
    "show(canvas)"
   ]
  },
  {
   "cell_type": "code",
   "execution_count": 33,
   "metadata": {},
   "outputs": [
    {
     "data": {
      "text/plain": [
       "13"
      ]
     },
     "execution_count": 33,
     "metadata": {},
     "output_type": "execute_result"
    }
   ],
   "source": [
    "blue = (255, 0 ,0)\n",
    "cv.rectangle(canvas, (50,200),(200,225),blue, -1)\n",
    "cv.imshow(\"Canvas\", canvas)\n",
    "cv.waitKey(0)"
   ]
  },
  {
   "cell_type": "code",
   "execution_count": 34,
   "metadata": {},
   "outputs": [
    {
     "data": {
      "text/plain": [
       "(300, 300, 3)"
      ]
     },
     "execution_count": 34,
     "metadata": {},
     "output_type": "execute_result"
    }
   ],
   "source": [
    "canvas = np.zeros((300,300,3), dtype=\"uint8\")\n",
    "canvas.shape"
   ]
  },
  {
   "cell_type": "code",
   "execution_count": 35,
   "metadata": {},
   "outputs": [],
   "source": [
    "(centerX, centerY) = (canvas.shape[1] // 2 , canvas.shape[0] // 2 )\n",
    "white = (255,255,255)\n"
   ]
  },
  {
   "cell_type": "code",
   "execution_count": 36,
   "metadata": {},
   "outputs": [
    {
     "name": "stdout",
     "output_type": "stream",
     "text": [
      "150 150\n"
     ]
    }
   ],
   "source": [
    "print(centerX, centerY)"
   ]
  },
  {
   "cell_type": "code",
   "execution_count": 37,
   "metadata": {},
   "outputs": [
    {
     "data": {
      "text/plain": [
       "13"
      ]
     },
     "execution_count": 37,
     "metadata": {},
     "output_type": "execute_result"
    }
   ],
   "source": [
    "for r in range(0,175,25):\n",
    "    cv.circle(canvas, (centerX, centerY), r, white )\n",
    "cv.imshow(\"Canvas\" , canvas)\n",
    "cv.waitKey(0)"
   ]
  },
  {
   "cell_type": "code",
   "execution_count": 38,
   "metadata": {},
   "outputs": [],
   "source": [
    "for i in range(0,25):\n",
    "    radius = np.random.randint(5, high=200)\n",
    "    color = np.random.randint(0, high=200, size = (3,)).tolist()\n",
    "    pt = np.random.randint(0, high=300,size=(2,)) \n",
    "    cv.circle(canvas, pt, radius, color, -1)\n",
    "    \n",
    "show(canvas)"
   ]
  },
  {
   "cell_type": "markdown",
   "metadata": {},
   "source": []
  }
 ],
 "metadata": {
  "kernelspec": {
   "display_name": "venv",
   "language": "python",
   "name": "python3"
  },
  "language_info": {
   "codemirror_mode": {
    "name": "ipython",
    "version": 3
   },
   "file_extension": ".py",
   "mimetype": "text/x-python",
   "name": "python",
   "nbconvert_exporter": "python",
   "pygments_lexer": "ipython3",
   "version": "3.12.4"
  }
 },
 "nbformat": 4,
 "nbformat_minor": 2
}
