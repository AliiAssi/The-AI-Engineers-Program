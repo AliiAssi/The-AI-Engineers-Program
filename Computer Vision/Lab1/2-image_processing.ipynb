{
 "cells": [
  {
   "cell_type": "markdown",
   "metadata": {},
   "source": [
    "### Translation"
   ]
  },
  {
   "cell_type": "code",
   "execution_count": 1,
   "metadata": {},
   "outputs": [],
   "source": [
    "import numpy as np\n",
    "import cv2 as cv"
   ]
  },
  {
   "cell_type": "code",
   "execution_count": 2,
   "metadata": {},
   "outputs": [],
   "source": [
    "def show(img):\n",
    "    # using cv\n",
    "    cv.imshow(\"image\", img)\n",
    "    cv.waitKey(0)\n",
    "    cv.destroyAllWindows()"
   ]
  },
  {
   "cell_type": "code",
   "execution_count": 4,
   "metadata": {},
   "outputs": [],
   "source": [
    "image = cv.imread(\"../DATA/colors.jpg\")\n",
    "show(image)"
   ]
  },
  {
   "cell_type": "code",
   "execution_count": 5,
   "metadata": {},
   "outputs": [],
   "source": [
    "M = np.float32([\n",
    "    [1,0,25],\n",
    "    [0,1,50]\n",
    "])\n",
    "shifted = cv.warpAffine(image, M, (image.shape[1],image.shape[0]))\n",
    "show(shifted)\n"
   ]
  },
  {
   "cell_type": "code",
   "execution_count": 6,
   "metadata": {},
   "outputs": [],
   "source": [
    "M = np.float32([\n",
    "    [1,0,-25],\n",
    "    [0,1,-50]\n",
    "])\n",
    "shifted = cv.warpAffine(image, M, (image.shape[1],image.shape[0]))\n",
    "show(shifted)"
   ]
  },
  {
   "cell_type": "code",
   "execution_count": 7,
   "metadata": {},
   "outputs": [],
   "source": [
    "def translate_image(image, x, y):\n",
    "    M = np.float32([[1,0,x], [0,1,y]])\n",
    "    shifted = cv.warpAffine(image, M, (image.shape[1], image.shape[0]))\n",
    "    return shifted"
   ]
  },
  {
   "cell_type": "code",
   "execution_count": 8,
   "metadata": {},
   "outputs": [],
   "source": [
    "shited = translate_image(image, -50, 90 )\n",
    "show(shited)"
   ]
  },
  {
   "cell_type": "markdown",
   "metadata": {},
   "source": [
    "### Rotation"
   ]
  },
  {
   "cell_type": "code",
   "execution_count": 9,
   "metadata": {},
   "outputs": [],
   "source": [
    "(h,w) = image.shape[:2]\n",
    "center = w//2 , h//2 \n",
    "M = cv.getRotationMatrix2D(center, 45, 0.5)\n",
    "rotated = cv.warpAffine(image, M, (w,h))\n",
    "show(rotated)"
   ]
  },
  {
   "cell_type": "code",
   "execution_count": 10,
   "metadata": {},
   "outputs": [],
   "source": [
    "### Write a function for rotation\n",
    "def rotate(image, angle):\n",
    "    rows, cols = image.shape[:2]\n",
    "    M = cv.getRotationMatrix2D((cols/2, rows/2), angle, 1)\n",
    "    dst = cv.warpAffine(image, M, (cols, rows))\n",
    "    return dst\n",
    "testing = rotate(image, 45)\n",
    "show(testing)"
   ]
  },
  {
   "cell_type": "markdown",
   "metadata": {},
   "source": [
    "### Resizing"
   ]
  },
  {
   "cell_type": "code",
   "execution_count": 11,
   "metadata": {},
   "outputs": [
    {
     "name": "stdout",
     "output_type": "stream",
     "text": [
      "0.09259259259259259\n"
     ]
    }
   ],
   "source": [
    "h = image.shape[0]\n",
    "w = image.shape[1]\n",
    "r = 50.0 / h \n",
    "print(r)\n",
    "dim = (int(w*r), 50) # (h,w)\n",
    "resized = cv.resize(image, dim, interpolation=cv.INTER_AREA)\n",
    "show(resized)"
   ]
  },
  {
   "cell_type": "code",
   "execution_count": 13,
   "metadata": {},
   "outputs": [],
   "source": [
    "import imutils "
   ]
  },
  {
   "cell_type": "code",
   "execution_count": 14,
   "metadata": {},
   "outputs": [],
   "source": [
    "resized = imutils.resize(image, height = 100)\n",
    "show(resized)"
   ]
  },
  {
   "cell_type": "code",
   "execution_count": 16,
   "metadata": {},
   "outputs": [],
   "source": [
    "### Write a function called display_image\n",
    "def display_image(image):\n",
    "    show(image)\n",
    "display_image(resized)"
   ]
  },
  {
   "cell_type": "markdown",
   "metadata": {},
   "source": [
    "### Flipping"
   ]
  },
  {
   "cell_type": "code",
   "execution_count": 19,
   "metadata": {},
   "outputs": [],
   "source": [
    "flipped = cv.flip(image, 1 )\n",
    "show(flipped)"
   ]
  },
  {
   "cell_type": "code",
   "execution_count": 20,
   "metadata": {},
   "outputs": [],
   "source": [
    "flipped = cv.flip(image, 0 )\n",
    "show(flipped)"
   ]
  },
  {
   "cell_type": "code",
   "execution_count": 21,
   "metadata": {},
   "outputs": [],
   "source": [
    "flipped = cv.flip(image, -1 )\n",
    "show(flipped)"
   ]
  },
  {
   "cell_type": "markdown",
   "metadata": {},
   "source": [
    "### Cropping "
   ]
  },
  {
   "cell_type": "code",
   "execution_count": 22,
   "metadata": {},
   "outputs": [],
   "source": [
    "cropped = image[30:120, 240:335]\n",
    "show(cropped)"
   ]
  },
  {
   "cell_type": "markdown",
   "metadata": {},
   "source": [
    "### Arithmetics"
   ]
  },
  {
   "cell_type": "code",
   "execution_count": 25,
   "metadata": {},
   "outputs": [],
   "source": [
    "M = np.ones(image.shape, dtype=\"uint8\")*2\n",
    "subtracted = cv.subtract(image, M )\n",
    "show(subtracted)"
   ]
  },
  {
   "cell_type": "code",
   "execution_count": 26,
   "metadata": {},
   "outputs": [],
   "source": [
    "rectangle = np.zeros((300, 300), dtype = \"uint8\")\n",
    "cv.rectangle(rectangle, (25, 25), (275, 275), 255, -1)\n",
    "show(rectangle)\n",
    "circle = np.zeros((300, 300), dtype = \"uint8\")\n",
    "cv.circle(circle, (150, 150), 150, 255, -1)\n",
    "show(circle)"
   ]
  },
  {
   "cell_type": "markdown",
   "metadata": {},
   "source": [
    "### Bitwise operations"
   ]
  },
  {
   "cell_type": "code",
   "execution_count": 27,
   "metadata": {},
   "outputs": [],
   "source": [
    "bitwiseAnd = cv.bitwise_and(rectangle, circle)\n",
    "show(bitwiseAnd)"
   ]
  },
  {
   "cell_type": "code",
   "execution_count": 28,
   "metadata": {},
   "outputs": [],
   "source": [
    "bitwiseOr = cv.bitwise_or(rectangle, circle)\n",
    "show(bitwiseOr)"
   ]
  },
  {
   "cell_type": "code",
   "execution_count": 29,
   "metadata": {},
   "outputs": [],
   "source": [
    "bitwiseOr = cv.bitwise_xor(rectangle, circle)\n",
    "show(bitwiseOr)"
   ]
  },
  {
   "cell_type": "code",
   "execution_count": 30,
   "metadata": {},
   "outputs": [],
   "source": [
    "bitwiseOr = cv.bitwise_not(rectangle, circle)\n",
    "show(bitwiseOr)"
   ]
  },
  {
   "cell_type": "markdown",
   "metadata": {},
   "source": [
    "### Masking"
   ]
  },
  {
   "cell_type": "code",
   "execution_count": 31,
   "metadata": {},
   "outputs": [],
   "source": [
    "mask = np.zeros(image.shape[:2], dtype=\"uint8\")\n",
    "(cX, cY) = image.shape[1] //2 , image.shape[0] // 2 \n",
    "cv.rectangle(mask, (cX - 75, cY-75) , (cX + 75 , cY + 75) , 255 , -1)\n",
    "show(mask)"
   ]
  },
  {
   "cell_type": "code",
   "execution_count": 32,
   "metadata": {},
   "outputs": [],
   "source": [
    "masked_image = cv.bitwise_and(image, image , mask=mask )\n",
    "show(masked_image)"
   ]
  },
  {
   "cell_type": "markdown",
   "metadata": {},
   "source": [
    "### Color Spaces"
   ]
  },
  {
   "cell_type": "code",
   "execution_count": 33,
   "metadata": {},
   "outputs": [],
   "source": [
    "\n",
    "gray = cv.cvtColor(image, cv.COLOR_BGR2GRAY)\n",
    "show(gray)\n",
    "hsv = cv.cvtColor(image, cv.COLOR_BGR2HSV)\n",
    "show(hsv)\n",
    "lab = cv.cvtColor(image, cv.COLOR_BGR2LAB)\n",
    "show(lab)"
   ]
  },
  {
   "cell_type": "markdown",
   "metadata": {},
   "source": [
    "### Histograms\n"
   ]
  },
  {
   "cell_type": "code",
   "execution_count": 34,
   "metadata": {},
   "outputs": [],
   "source": [
    "import matplotlib.pyplot as plt\n",
    "image = cv.imread(\"../DATA/grayscale_image.jpg\")\n",
    "image = cv.cvtColor(image, cv.COLOR_BGR2GRAY)\n",
    "show(image)\n"
   ]
  },
  {
   "cell_type": "code",
   "execution_count": 35,
   "metadata": {},
   "outputs": [
    {
     "data": {
      "image/png": "[encoded data removed]",
      "text/plain": [
       "<Figure size 640x480 with 1 Axes>"
      ]
     },
     "metadata": {},
     "output_type": "display_data"
    }
   ],
   "source": [
    "hist = cv.calcHist([image] , [0], None, [256] , [0,256])\n",
    "plt.figure()\n",
    "plt.title(\"Grayscale histogram\")\n",
    "plt.xlabel(\"Bins\")\n",
    "plt.ylabel(\"# of pixels\")\n",
    "plt.plot(hist)\n",
    "plt.xlim([0,256])\n",
    "plt.show()"
   ]
  },
  {
   "cell_type": "code",
   "execution_count": 36,
   "metadata": {},
   "outputs": [
    {
     "data": {
      "image/png": "[encoded data removed]",
      "text/plain": [
       "<Figure size 640x480 with 1 Axes>"
      ]
     },
     "metadata": {},
     "output_type": "display_data"
    }
   ],
   "source": [
    "image = cv.imread(\"../DATA/colors.jpg\")\n",
    "chans = cv.split(image)\n",
    "colors = (\"b\", \"g\" , \"r\")\n",
    "plt.figure()\n",
    "plt.title(\"Flattened color histogram\")\n",
    "plt.xlabel(\"Bins\")\n",
    "plt.ylabel(\"# of pixels\")\n",
    "\n",
    "for (chan, color) in zip(chans, colors):\n",
    "    hist = cv.calcHist([chan], [0],None, [256] , [0,256])\n",
    "    plt.plot(hist, color=color)\n",
    "    plt.xlim([0,256])"
   ]
  },
  {
   "cell_type": "markdown",
   "metadata": {},
   "source": [
    "### Smoothing and blurring"
   ]
  },
  {
   "cell_type": "code",
   "execution_count": 38,
   "metadata": {},
   "outputs": [],
   "source": [
    "image = cv.imread(\"../DATA/colors.jpg\")\n",
    "blurred = np.hstack(\n",
    "    [\n",
    "        cv.blur(image, (3,3)),\n",
    "        cv.blur(image, (5,5)),\n",
    "        cv.blur(image, (7,7))\n",
    "    ]\n",
    ")\n",
    "show(blurred)"
   ]
  },
  {
   "cell_type": "code",
   "execution_count": 39,
   "metadata": {},
   "outputs": [],
   "source": [
    "blurred = np.hstack(\n",
    "    [\n",
    "        cv.medianBlur(image, 3),\n",
    "        cv.medianBlur(image, 5),\n",
    "        cv.medianBlur(image, 7)\n",
    "        \n",
    "        \n",
    "    ]\n",
    ")\n",
    "show(blurred)"
   ]
  }
 ],
 "metadata": {
  "kernelspec": {
   "display_name": "venv",
   "language": "python",
   "name": "python3"
  },
  "language_info": {
   "codemirror_mode": {
    "name": "ipython",
    "version": 3
   },
   "file_extension": ".py",
   "mimetype": "text/x-python",
   "name": "python",
   "nbconvert_exporter": "python",
   "pygments_lexer": "ipython3",
   "version": "3.12.4"
  }
 },
 "nbformat": 4,
 "nbformat_minor": 2
}
