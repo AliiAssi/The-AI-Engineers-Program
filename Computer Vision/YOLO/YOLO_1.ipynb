{
 "cells": [
  {
   "cell_type": "code",
   "execution_count": null,
   "metadata": {},
   "outputs": [],
   "source": [
    "import cv2\n",
    "import torch\n",
    "from ultralytics import YOLO\n",
    "import numpy as np\n",
    "import time\n",
    "\n",
    "class VideoYOLODetection:\n",
    "    def __init__(self, video_path, model_path='yolov5s.pt'):\n",
    "        self.model = YOLO(model_path)\n",
    "        self.cap = cv2.VideoCapture(video_path)\n",
    "        self.colors = np.random.randint(0, 255, size=(80, 3), dtype=np.uint8)\n",
    "\n",
    "    def run(self, output_path='output.mp4'):\n",
    "        width = int(self.cap.get(cv2.CAP_PROP_FRAME_WIDTH))\n",
    "        height = int(self.cap.get(cv2.CAP_PROP_FRAME_HEIGHT))\n",
    "        fps = self.cap.get(cv2.CAP_PROP_FPS)\n",
    "\n",
    "        fourcc = cv2.VideoWriter_fourcc(*'mp4v')\n",
    "        out = cv2.VideoWriter(output_path, fourcc, fps, (width, height))\n",
    "\n",
    "        while True:\n",
    "            ret, frame = self.cap.read()\n",
    "            if not ret:\n",
    "                break\n",
    "\n",
    "            results = self.model(frame)\n",
    "\n",
    "            for result in results:\n",
    "                boxes = result.boxes.cpu().numpy()\n",
    "                for box in boxes:\n",
    "                    x1, y1, x2, y2 = box.xyxy[0].astype(int)\n",
    "                    cls = int(box.cls[0])\n",
    "                    conf = float(box.conf[0])\n",
    "                    label = f\"{result.names[cls]} {conf:.2f}\"\n",
    "                    color = [int(c) for c in self.colors[cls]]\n",
    "                    cv2.rectangle(frame, (x1, y1), (x2, y2), color, 2)\n",
    "                    cv2.putText(frame, label, (x1, y1 - 10), cv2.FONT_HERSHEY_SIMPLEX, 0.5, color, 2)\n",
    "\n",
    "            out.write(frame)\n",
    "\n",
    "        self.cap.release()\n",
    "        out.release()\n",
    "\n",
    "# Usage\n",
    "detector = VideoYOLODetection('/content/video_capture.mp4') \n",
    "detector.run()"
   ]
  }
 ],
 "metadata": {
  "language_info": {
   "name": "python"
  }
 },
 "nbformat": 4,
 "nbformat_minor": 2
}
